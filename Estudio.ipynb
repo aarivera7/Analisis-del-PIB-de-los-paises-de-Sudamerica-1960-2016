{
 "cells": [
  {
   "cell_type": "code",
   "execution_count": 1,
   "id": "9de4e941",
   "metadata": {},
   "outputs": [],
   "source": [
    "# Importamos las bibliotecas que vamos a usar\n",
    "import pandas as pd\n",
    "import ipywidgets as widgets\n",
    "from ipyleaflet import Map, MagnifyingGlass, basemaps, basemap_to_tiles, Marker"
   ]
  },
  {
   "cell_type": "code",
   "execution_count": 4,
   "id": "3d3bf02d",
   "metadata": {},
   "outputs": [
    {
     "data": {
      "text/html": [
       "<div>\n",
       "<style scoped>\n",
       "    .dataframe tbody tr th:only-of-type {\n",
       "        vertical-align: middle;\n",
       "    }\n",
       "\n",
       "    .dataframe tbody tr th {\n",
       "        vertical-align: top;\n",
       "    }\n",
       "\n",
       "    .dataframe thead th {\n",
       "        text-align: right;\n",
       "    }\n",
       "</style>\n",
       "<table border=\"1\" class=\"dataframe\">\n",
       "  <thead>\n",
       "    <tr style=\"text-align: right;\">\n",
       "      <th></th>\n",
       "      <th>Country</th>\n",
       "      <th>Code</th>\n",
       "      <th>Year</th>\n",
       "      <th>GDP-Growth</th>\n",
       "      <th>GDP-Per-Capita</th>\n",
       "      <th>GDP</th>\n",
       "    </tr>\n",
       "  </thead>\n",
       "  <tbody>\n",
       "    <tr>\n",
       "      <th>0</th>\n",
       "      <td>Aruba</td>\n",
       "      <td>ABW</td>\n",
       "      <td>1960</td>\n",
       "      <td>NaN</td>\n",
       "      <td>NaN</td>\n",
       "      <td>NaN</td>\n",
       "    </tr>\n",
       "    <tr>\n",
       "      <th>1</th>\n",
       "      <td>Afghanistan</td>\n",
       "      <td>AFG</td>\n",
       "      <td>1960</td>\n",
       "      <td>NaN</td>\n",
       "      <td>NaN</td>\n",
       "      <td>NaN</td>\n",
       "    </tr>\n",
       "    <tr>\n",
       "      <th>2</th>\n",
       "      <td>Angola</td>\n",
       "      <td>AGO</td>\n",
       "      <td>1960</td>\n",
       "      <td>NaN</td>\n",
       "      <td>NaN</td>\n",
       "      <td>NaN</td>\n",
       "    </tr>\n",
       "    <tr>\n",
       "      <th>3</th>\n",
       "      <td>Albania</td>\n",
       "      <td>ALB</td>\n",
       "      <td>1960</td>\n",
       "      <td>NaN</td>\n",
       "      <td>NaN</td>\n",
       "      <td>NaN</td>\n",
       "    </tr>\n",
       "    <tr>\n",
       "      <th>4</th>\n",
       "      <td>Andorra</td>\n",
       "      <td>AND</td>\n",
       "      <td>1960</td>\n",
       "      <td>NaN</td>\n",
       "      <td>NaN</td>\n",
       "      <td>NaN</td>\n",
       "    </tr>\n",
       "    <tr>\n",
       "      <th>...</th>\n",
       "      <td>...</td>\n",
       "      <td>...</td>\n",
       "      <td>...</td>\n",
       "      <td>...</td>\n",
       "      <td>...</td>\n",
       "      <td>...</td>\n",
       "    </tr>\n",
       "    <tr>\n",
       "      <th>15043</th>\n",
       "      <td>Kosovo</td>\n",
       "      <td>XKX</td>\n",
       "      <td>2016</td>\n",
       "      <td>4.145372</td>\n",
       "      <td>4193.631327</td>\n",
       "      <td>7.738508e+09</td>\n",
       "    </tr>\n",
       "    <tr>\n",
       "      <th>15044</th>\n",
       "      <td>Yemen, Rep.</td>\n",
       "      <td>YEM</td>\n",
       "      <td>2016</td>\n",
       "      <td>-2.701475</td>\n",
       "      <td>667.945437</td>\n",
       "      <td>1.903557e+10</td>\n",
       "    </tr>\n",
       "    <tr>\n",
       "      <th>15045</th>\n",
       "      <td>South Africa</td>\n",
       "      <td>ZAF</td>\n",
       "      <td>2016</td>\n",
       "      <td>0.787056</td>\n",
       "      <td>7439.919412</td>\n",
       "      <td>4.298757e+11</td>\n",
       "    </tr>\n",
       "    <tr>\n",
       "      <th>15046</th>\n",
       "      <td>Zambia</td>\n",
       "      <td>ZMB</td>\n",
       "      <td>2016</td>\n",
       "      <td>3.794901</td>\n",
       "      <td>1672.345428</td>\n",
       "      <td>2.901824e+10</td>\n",
       "    </tr>\n",
       "    <tr>\n",
       "      <th>15047</th>\n",
       "      <td>Zimbabwe</td>\n",
       "      <td>ZWE</td>\n",
       "      <td>2016</td>\n",
       "      <td>6.159190</td>\n",
       "      <td>1322.344063</td>\n",
       "      <td>1.909335e+10</td>\n",
       "    </tr>\n",
       "  </tbody>\n",
       "</table>\n",
       "<p>15048 rows × 6 columns</p>\n",
       "</div>"
      ],
      "text/plain": [
       "            Country Code  Year  GDP-Growth  GDP-Per-Capita           GDP\n",
       "0             Aruba  ABW  1960         NaN             NaN           NaN\n",
       "1       Afghanistan  AFG  1960         NaN             NaN           NaN\n",
       "2            Angola  AGO  1960         NaN             NaN           NaN\n",
       "3           Albania  ALB  1960         NaN             NaN           NaN\n",
       "4           Andorra  AND  1960         NaN             NaN           NaN\n",
       "...             ...  ...   ...         ...             ...           ...\n",
       "15043        Kosovo  XKX  2016    4.145372     4193.631327  7.738508e+09\n",
       "15044   Yemen, Rep.  YEM  2016   -2.701475      667.945437  1.903557e+10\n",
       "15045  South Africa  ZAF  2016    0.787056     7439.919412  4.298757e+11\n",
       "15046        Zambia  ZMB  2016    3.794901     1672.345428  2.901824e+10\n",
       "15047      Zimbabwe  ZWE  2016    6.159190     1322.344063  1.909335e+10\n",
       "\n",
       "[15048 rows x 6 columns]"
      ]
     },
     "execution_count": 4,
     "metadata": {},
     "output_type": "execute_result"
    }
   ],
   "source": [
    "data = pd.read_csv('data/gdp_data.csv')\n",
    "data"
   ]
  },
  {
   "cell_type": "code",
   "execution_count": 5,
   "id": "1e7391e7",
   "metadata": {},
   "outputs": [],
   "source": [
    "paises_sud = ['Colombia', 'Ecuador', 'Peru', 'Bolivia', 'Venezuela', 'Chile', 'Argentina', 'Paraguay', 'Brazil', 'Uruguay')]"
   ]
  },
  {
   "cell_type": "code",
   "execution_count": 26,
   "id": "a2180dde",
   "metadata": {},
   "outputs": [
    {
     "data": {
      "text/html": [
       "<div>\n",
       "<style scoped>\n",
       "    .dataframe tbody tr th:only-of-type {\n",
       "        vertical-align: middle;\n",
       "    }\n",
       "\n",
       "    .dataframe tbody tr th {\n",
       "        vertical-align: top;\n",
       "    }\n",
       "\n",
       "    .dataframe thead th {\n",
       "        text-align: right;\n",
       "    }\n",
       "</style>\n",
       "<table border=\"1\" class=\"dataframe\">\n",
       "  <thead>\n",
       "    <tr style=\"text-align: right;\">\n",
       "      <th></th>\n",
       "      <th>Country</th>\n",
       "      <th>Code</th>\n",
       "      <th>Year</th>\n",
       "      <th>GDP-Growth</th>\n",
       "      <th>GDP-Per-Capita</th>\n",
       "      <th>GDP</th>\n",
       "    </tr>\n",
       "  </thead>\n",
       "  <tbody>\n",
       "    <tr>\n",
       "      <th>7</th>\n",
       "      <td>Argentina</td>\n",
       "      <td>ARG</td>\n",
       "      <td>1960</td>\n",
       "      <td>-0.852022</td>\n",
       "      <td>5711.179338</td>\n",
       "      <td>1.208089e+11</td>\n",
       "    </tr>\n",
       "    <tr>\n",
       "      <th>26</th>\n",
       "      <td>Bolivia</td>\n",
       "      <td>BOL</td>\n",
       "      <td>1960</td>\n",
       "      <td>5.578918</td>\n",
       "      <td>1042.064019</td>\n",
       "      <td>3.962959e+09</td>\n",
       "    </tr>\n",
       "    <tr>\n",
       "      <th>27</th>\n",
       "      <td>Brazil</td>\n",
       "      <td>BRA</td>\n",
       "      <td>1960</td>\n",
       "      <td>5.216059</td>\n",
       "      <td>3740.433280</td>\n",
       "      <td>2.861967e+11</td>\n",
       "    </tr>\n",
       "    <tr>\n",
       "      <th>37</th>\n",
       "      <td>Chile</td>\n",
       "      <td>CHL</td>\n",
       "      <td>1960</td>\n",
       "      <td>4.026686</td>\n",
       "      <td>3794.010773</td>\n",
       "      <td>3.216144e+10</td>\n",
       "    </tr>\n",
       "    <tr>\n",
       "      <th>43</th>\n",
       "      <td>Colombia</td>\n",
       "      <td>COL</td>\n",
       "      <td>1960</td>\n",
       "      <td>5.411890</td>\n",
       "      <td>2432.061670</td>\n",
       "      <td>4.157103e+10</td>\n",
       "    </tr>\n",
       "    <tr>\n",
       "      <th>...</th>\n",
       "      <td>...</td>\n",
       "      <td>...</td>\n",
       "      <td>...</td>\n",
       "      <td>...</td>\n",
       "      <td>...</td>\n",
       "      <td>...</td>\n",
       "    </tr>\n",
       "    <tr>\n",
       "      <th>14821</th>\n",
       "      <td>Chile</td>\n",
       "      <td>CHL</td>\n",
       "      <td>2016</td>\n",
       "      <td>4.024653</td>\n",
       "      <td>15130.154322</td>\n",
       "      <td>2.833751e+11</td>\n",
       "    </tr>\n",
       "    <tr>\n",
       "      <th>14827</th>\n",
       "      <td>Colombia</td>\n",
       "      <td>COL</td>\n",
       "      <td>2016</td>\n",
       "      <td>2.658121</td>\n",
       "      <td>7698.412245</td>\n",
       "      <td>3.822160e+11</td>\n",
       "    </tr>\n",
       "    <tr>\n",
       "      <th>14848</th>\n",
       "      <td>Ecuador</td>\n",
       "      <td>ECU</td>\n",
       "      <td>2016</td>\n",
       "      <td>1.377127</td>\n",
       "      <td>5185.091461</td>\n",
       "      <td>8.858395e+10</td>\n",
       "    </tr>\n",
       "    <tr>\n",
       "      <th>14977</th>\n",
       "      <td>Paraguay</td>\n",
       "      <td>PRY</td>\n",
       "      <td>2016</td>\n",
       "      <td>3.637827</td>\n",
       "      <td>5394.461414</td>\n",
       "      <td>3.752426e+10</td>\n",
       "    </tr>\n",
       "    <tr>\n",
       "      <th>15032</th>\n",
       "      <td>Uruguay</td>\n",
       "      <td>URY</td>\n",
       "      <td>2016</td>\n",
       "      <td>1.620084</td>\n",
       "      <td>14617.464001</td>\n",
       "      <td>5.042000e+10</td>\n",
       "    </tr>\n",
       "  </tbody>\n",
       "</table>\n",
       "<p>456 rows × 6 columns</p>\n",
       "</div>"
      ],
      "text/plain": [
       "         Country Code  Year  GDP-Growth  GDP-Per-Capita           GDP\n",
       "7      Argentina  ARG  1960   -0.852022     5711.179338  1.208089e+11\n",
       "26       Bolivia  BOL  1960    5.578918     1042.064019  3.962959e+09\n",
       "27        Brazil  BRA  1960    5.216059     3740.433280  2.861967e+11\n",
       "37         Chile  CHL  1960    4.026686     3794.010773  3.216144e+10\n",
       "43      Colombia  COL  1960    5.411890     2432.061670  4.157103e+10\n",
       "...          ...  ...   ...         ...             ...           ...\n",
       "14821      Chile  CHL  2016    4.024653    15130.154322  2.833751e+11\n",
       "14827   Colombia  COL  2016    2.658121     7698.412245  3.822160e+11\n",
       "14848    Ecuador  ECU  2016    1.377127     5185.091461  8.858395e+10\n",
       "14977   Paraguay  PRY  2016    3.637827     5394.461414  3.752426e+10\n",
       "15032    Uruguay  URY  2016    1.620084    14617.464001  5.042000e+10\n",
       "\n",
       "[456 rows x 6 columns]"
      ]
     },
     "execution_count": 26,
     "metadata": {},
     "output_type": "execute_result"
    }
   ],
   "source": [
    "data_sud = data[data.Country.isin(paises_sud)]\n",
    "data_sud"
   ]
  },
  {
   "cell_type": "code",
   "execution_count": 74,
   "id": "0994e81e",
   "metadata": {},
   "outputs": [],
   "source": [
    "opciones = [(d, d) for d in paises_sud]\n",
    "opciones.sort()"
   ]
  },
  {
   "cell_type": "code",
   "execution_count": 76,
   "id": "f8aa3838",
   "metadata": {},
   "outputs": [
    {
     "data": {
      "application/vnd.jupyter.widget-view+json": {
       "model_id": "a546c6d4ec214d5ab1577e8a6ead3a8b",
       "version_major": 2,
       "version_minor": 0
      },
      "text/plain": [
       "Dropdown(description='País:', options=(('Argentina', 'Argentina'), ('Bolivia', 'Bolivia'), ('Brazil', 'Brazil'…"
      ]
     },
     "metadata": {},
     "output_type": "display_data"
    }
   ],
   "source": [
    "pais = widgets.Dropdown(\n",
    "    options = opciones,\n",
    "    value='Argentina',\n",
    "    description='País:'\n",
    ")\n",
    "\n",
    "pais"
   ]
  },
  {
   "cell_type": "code",
   "execution_count": 77,
   "id": "895ec152",
   "metadata": {},
   "outputs": [
    {
     "data": {
      "text/html": [
       "<div>\n",
       "<style scoped>\n",
       "    .dataframe tbody tr th:only-of-type {\n",
       "        vertical-align: middle;\n",
       "    }\n",
       "\n",
       "    .dataframe tbody tr th {\n",
       "        vertical-align: top;\n",
       "    }\n",
       "\n",
       "    .dataframe thead th {\n",
       "        text-align: right;\n",
       "    }\n",
       "</style>\n",
       "<table border=\"1\" class=\"dataframe\">\n",
       "  <thead>\n",
       "    <tr style=\"text-align: right;\">\n",
       "      <th></th>\n",
       "      <th>Country</th>\n",
       "      <th>Code</th>\n",
       "      <th>Year</th>\n",
       "      <th>GDP-Growth</th>\n",
       "      <th>GDP-Per-Capita</th>\n",
       "      <th>GDP</th>\n",
       "    </tr>\n",
       "  </thead>\n",
       "  <tbody>\n",
       "    <tr>\n",
       "      <th>37</th>\n",
       "      <td>Chile</td>\n",
       "      <td>CHL</td>\n",
       "      <td>1960</td>\n",
       "      <td>4.026686</td>\n",
       "      <td>3794.010773</td>\n",
       "      <td>3.216144e+10</td>\n",
       "    </tr>\n",
       "    <tr>\n",
       "      <th>301</th>\n",
       "      <td>Chile</td>\n",
       "      <td>CHL</td>\n",
       "      <td>1961</td>\n",
       "      <td>5.840140</td>\n",
       "      <td>3935.050723</td>\n",
       "      <td>3.403971e+10</td>\n",
       "    </tr>\n",
       "    <tr>\n",
       "      <th>565</th>\n",
       "      <td>Chile</td>\n",
       "      <td>CHL</td>\n",
       "      <td>1962</td>\n",
       "      <td>2.557221</td>\n",
       "      <td>3957.236913</td>\n",
       "      <td>3.491018e+10</td>\n",
       "    </tr>\n",
       "    <tr>\n",
       "      <th>829</th>\n",
       "      <td>Chile</td>\n",
       "      <td>CHL</td>\n",
       "      <td>1963</td>\n",
       "      <td>0.950273</td>\n",
       "      <td>3920.290297</td>\n",
       "      <td>3.524192e+10</td>\n",
       "    </tr>\n",
       "    <tr>\n",
       "      <th>1093</th>\n",
       "      <td>Chile</td>\n",
       "      <td>CHL</td>\n",
       "      <td>1964</td>\n",
       "      <td>11.236242</td>\n",
       "      <td>4283.017607</td>\n",
       "      <td>3.920179e+10</td>\n",
       "    </tr>\n",
       "  </tbody>\n",
       "</table>\n",
       "</div>"
      ],
      "text/plain": [
       "     Country Code  Year  GDP-Growth  GDP-Per-Capita           GDP\n",
       "37     Chile  CHL  1960    4.026686     3794.010773  3.216144e+10\n",
       "301    Chile  CHL  1961    5.840140     3935.050723  3.403971e+10\n",
       "565    Chile  CHL  1962    2.557221     3957.236913  3.491018e+10\n",
       "829    Chile  CHL  1963    0.950273     3920.290297  3.524192e+10\n",
       "1093   Chile  CHL  1964   11.236242     4283.017607  3.920179e+10"
      ]
     },
     "execution_count": 77,
     "metadata": {},
     "output_type": "execute_result"
    }
   ],
   "source": [
    "datos_x_pais = data_sud[data_sud['Country'] == pais.value]\n",
    "datos_x_pais.head(5)"
   ]
  },
  {
   "cell_type": "code",
   "execution_count": 78,
   "id": "2b9993c2",
   "metadata": {},
   "outputs": [
    {
     "data": {
      "text/plain": [
       "<AxesSubplot:xlabel='Year'>"
      ]
     },
     "execution_count": 78,
     "metadata": {},
     "output_type": "execute_result"
    },
    {
     "data": {
      "image/png": "[encoded data removed]",
      "text/plain": [
       "<Figure size 432x288 with 1 Axes>"
      ]
     },
     "metadata": {
      "needs_background": "light"
     },
     "output_type": "display_data"
    }
   ],
   "source": [
    "datos_x_pais.groupby(\"Year\")['GDP'].sum().plot(kind=\"line\")"
   ]
  },
  {
   "cell_type": "code",
   "execution_count": 79,
   "id": "5fae7142",
   "metadata": {},
   "outputs": [
    {
     "data": {
      "text/plain": [
       "<AxesSubplot:xlabel='Year'>"
      ]
     },
     "execution_count": 79,
     "metadata": {},
     "output_type": "execute_result"
    },
    {
     "data": {
      "image/png": "[encoded data removed]",
      "text/plain": [
       "<Figure size 432x288 with 1 Axes>"
      ]
     },
     "metadata": {
      "needs_background": "light"
     },
     "output_type": "display_data"
    }
   ],
   "source": [
    "datos_x_pais.groupby(\"Year\")['GDP-Per-Capita'].sum().plot(kind=\"line\")"
   ]
  },
  {
   "cell_type": "code",
   "execution_count": 72,
   "id": "ed9cc702",
   "metadata": {},
   "outputs": [],
   "source": [
    "years = [(str(d), d) for d in range (1960, 2017)]\n",
    "years.sort()"
   ]
  },
  {
   "cell_type": "code",
   "execution_count": 73,
   "id": "dabdc2ee",
   "metadata": {},
   "outputs": [
    {
     "data": {
      "application/vnd.jupyter.widget-view+json": {
       "model_id": "991a9c59f474487c9bbc042c18dfa021",
       "version_major": 2,
       "version_minor": 0
      },
      "text/plain": [
       "Dropdown(description='Año:', index=56, options=(('1960', 1960), ('1961', 1961), ('1962', 1962), ('1963', 1963)…"
      ]
     },
     "metadata": {},
     "output_type": "display_data"
    }
   ],
   "source": [
    "year = widgets.Dropdown(\n",
    "    options = years,\n",
    "    value=2016,\n",
    "    description='Año:'\n",
    ")\n",
    "\n",
    "year"
   ]
  },
  {
   "cell_type": "code",
   "execution_count": 65,
   "id": "e0f63f0a",
   "metadata": {},
   "outputs": [
    {
     "data": {
      "text/html": [
       "<div>\n",
       "<style scoped>\n",
       "    .dataframe tbody tr th:only-of-type {\n",
       "        vertical-align: middle;\n",
       "    }\n",
       "\n",
       "    .dataframe tbody tr th {\n",
       "        vertical-align: top;\n",
       "    }\n",
       "\n",
       "    .dataframe thead th {\n",
       "        text-align: right;\n",
       "    }\n",
       "</style>\n",
       "<table border=\"1\" class=\"dataframe\">\n",
       "  <thead>\n",
       "    <tr style=\"text-align: right;\">\n",
       "      <th></th>\n",
       "      <th>Country</th>\n",
       "      <th>Code</th>\n",
       "      <th>Year</th>\n",
       "      <th>GDP-Growth</th>\n",
       "      <th>GDP-Per-Capita</th>\n",
       "      <th>GDP</th>\n",
       "    </tr>\n",
       "  </thead>\n",
       "  <tbody>\n",
       "    <tr>\n",
       "      <th>14791</th>\n",
       "      <td>Argentina</td>\n",
       "      <td>ARG</td>\n",
       "      <td>2016</td>\n",
       "      <td>-2.514590</td>\n",
       "      <td>10040.130736</td>\n",
       "      <td>4.467306e+11</td>\n",
       "    </tr>\n",
       "    <tr>\n",
       "      <th>14810</th>\n",
       "      <td>Bolivia</td>\n",
       "      <td>BOL</td>\n",
       "      <td>2016</td>\n",
       "      <td>4.223625</td>\n",
       "      <td>2559.511317</td>\n",
       "      <td>2.905850e+10</td>\n",
       "    </tr>\n",
       "    <tr>\n",
       "      <th>14811</th>\n",
       "      <td>Brazil</td>\n",
       "      <td>BRA</td>\n",
       "      <td>2016</td>\n",
       "      <td>1.117579</td>\n",
       "      <td>11026.242161</td>\n",
       "      <td>2.309660e+12</td>\n",
       "    </tr>\n",
       "    <tr>\n",
       "      <th>14821</th>\n",
       "      <td>Chile</td>\n",
       "      <td>CHL</td>\n",
       "      <td>2016</td>\n",
       "      <td>4.024653</td>\n",
       "      <td>15130.154322</td>\n",
       "      <td>2.833751e+11</td>\n",
       "    </tr>\n",
       "    <tr>\n",
       "      <th>14827</th>\n",
       "      <td>Colombia</td>\n",
       "      <td>COL</td>\n",
       "      <td>2016</td>\n",
       "      <td>2.658121</td>\n",
       "      <td>7698.412245</td>\n",
       "      <td>3.822160e+11</td>\n",
       "    </tr>\n",
       "    <tr>\n",
       "      <th>14848</th>\n",
       "      <td>Ecuador</td>\n",
       "      <td>ECU</td>\n",
       "      <td>2016</td>\n",
       "      <td>1.377127</td>\n",
       "      <td>5185.091461</td>\n",
       "      <td>8.858395e+10</td>\n",
       "    </tr>\n",
       "    <tr>\n",
       "      <th>14977</th>\n",
       "      <td>Paraguay</td>\n",
       "      <td>PRY</td>\n",
       "      <td>2016</td>\n",
       "      <td>3.637827</td>\n",
       "      <td>5394.461414</td>\n",
       "      <td>3.752426e+10</td>\n",
       "    </tr>\n",
       "    <tr>\n",
       "      <th>15032</th>\n",
       "      <td>Uruguay</td>\n",
       "      <td>URY</td>\n",
       "      <td>2016</td>\n",
       "      <td>1.620084</td>\n",
       "      <td>14617.464001</td>\n",
       "      <td>5.042000e+10</td>\n",
       "    </tr>\n",
       "  </tbody>\n",
       "</table>\n",
       "</div>"
      ],
      "text/plain": [
       "         Country Code  Year  GDP-Growth  GDP-Per-Capita           GDP\n",
       "14791  Argentina  ARG  2016   -2.514590    10040.130736  4.467306e+11\n",
       "14810    Bolivia  BOL  2016    4.223625     2559.511317  2.905850e+10\n",
       "14811     Brazil  BRA  2016    1.117579    11026.242161  2.309660e+12\n",
       "14821      Chile  CHL  2016    4.024653    15130.154322  2.833751e+11\n",
       "14827   Colombia  COL  2016    2.658121     7698.412245  3.822160e+11\n",
       "14848    Ecuador  ECU  2016    1.377127     5185.091461  8.858395e+10\n",
       "14977   Paraguay  PRY  2016    3.637827     5394.461414  3.752426e+10\n",
       "15032    Uruguay  URY  2016    1.620084    14617.464001  5.042000e+10"
      ]
     },
     "execution_count": 65,
     "metadata": {},
     "output_type": "execute_result"
    }
   ],
   "source": [
    "datos_x_pais = data_sud[data_sud['Year'] == year.value]\n",
    "datos_x_pais"
   ]
  },
  {
   "cell_type": "code",
   "execution_count": 66,
   "id": "cb476c8d",
   "metadata": {},
   "outputs": [
    {
     "data": {
      "text/plain": [
       "<AxesSubplot:xlabel='Country'>"
      ]
     },
     "execution_count": 66,
     "metadata": {},
     "output_type": "execute_result"
    },
    {
     "data": {
      "image/png": "[encoded data removed]",
      "text/plain": [
       "<Figure size 432x288 with 1 Axes>"
      ]
     },
     "metadata": {
      "needs_background": "light"
     },
     "output_type": "display_data"
    }
   ],
   "source": [
    "datos_x_pais.groupby(\"Country\")['GDP'].sum().plot(kind=\"bar\")"
   ]
  },
  {
   "cell_type": "code",
   "execution_count": 67,
   "id": "3f5b9e20",
   "metadata": {},
   "outputs": [
    {
     "data": {
      "text/plain": [
       "<AxesSubplot:xlabel='Country'>"
      ]
     },
     "execution_count": 67,
     "metadata": {},
     "output_type": "execute_result"
    },
    {
     "data": {
      "image/png": "[encoded data removed]",
      "text/plain": [
       "<Figure size 432x288 with 1 Axes>"
      ]
     },
     "metadata": {
      "needs_background": "light"
     },
     "output_type": "display_data"
    }
   ],
   "source": [
    "datos_x_pais.groupby(\"Country\")['GDP-Per-Capita'].sum().plot(kind=\"bar\")"
   ]
  },
  {
   "cell_type": "code",
   "execution_count": null,
   "id": "aeb737ae",
   "metadata": {},
   "outputs": [],
   "source": []
  }
 ],
 "metadata": {
  "kernelspec": {
   "display_name": "Python 3 (ipykernel)",
   "language": "python",
   "name": "python3"
  },
  "language_info": {
   "codemirror_mode": {
    "name": "ipython",
    "version": 3
   },
   "file_extension": ".py",
   "mimetype": "text/x-python",
   "name": "python",
   "nbconvert_exporter": "python",
   "pygments_lexer": "ipython3",
   "version": "3.9.6"
  }
 },
 "nbformat": 4,
 "nbformat_minor": 5
}
